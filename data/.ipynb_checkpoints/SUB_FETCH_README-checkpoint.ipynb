{
 "cells": [
  {
   "cell_type": "code",
   "execution_count": null,
   "metadata": {
    "_cell_guid": "b1076dfc-b9ad-4769-8c92-a6c4dae69d19",
    "_uuid": "8f2839f25d086af736a60e9eeb907d3b93b6e0e5",
    "execution": {
     "iopub.execute_input": "2023-11-23T05:17:15.996798Z",
     "iopub.status.busy": "2023-11-23T05:17:15.996367Z",
     "iopub.status.idle": "2023-11-23T05:17:16.43928Z",
     "shell.execute_reply": "2023-11-23T05:17:16.438464Z",
     "shell.execute_reply.started": "2023-11-23T05:17:15.996765Z"
    }
   },
   "outputs": [],
   "source": [
    "import numpy as np \n",
    "import pandas as pd \n",
    "\n",
    "import os\n",
    "for dirname, _, filenames in os.walk('/kaggle/input'):\n",
    "    for filename in filenames:\n",
    "        print(os.path.join(dirname, filename))"
   ]
  },
  {
   "cell_type": "code",
   "execution_count": null,
   "metadata": {
    "execution": {
     "iopub.execute_input": "2023-11-23T05:17:16.582286Z",
     "iopub.status.busy": "2023-11-23T05:17:16.580846Z",
     "iopub.status.idle": "2023-11-23T05:17:18.541224Z",
     "shell.execute_reply": "2023-11-23T05:17:18.539356Z",
     "shell.execute_reply.started": "2023-11-23T05:17:16.582233Z"
    }
   },
   "outputs": [],
   "source": [
    "df = pd.read_csv(\"/home/ac/popularity/code_submission/data/df_github.csv\", index_col=0)\n"
   ]
  },
  {
   "cell_type": "code",
   "execution_count": null,
   "metadata": {
    "execution": {
     "iopub.execute_input": "2023-11-23T05:17:19.357766Z",
     "iopub.status.busy": "2023-11-23T05:17:19.357369Z",
     "iopub.status.idle": "2023-11-23T05:17:19.402533Z",
     "shell.execute_reply": "2023-11-23T05:17:19.400805Z",
     "shell.execute_reply.started": "2023-11-23T05:17:19.357735Z"
    }
   },
   "outputs": [],
   "source": [
    "df"
   ]
  },
  {
   "cell_type": "code",
   "execution_count": null,
   "metadata": {
    "execution": {
     "iopub.execute_input": "2023-11-23T05:17:25.252157Z",
     "iopub.status.busy": "2023-11-23T05:17:25.251708Z",
     "iopub.status.idle": "2023-11-23T05:17:25.268567Z",
     "shell.execute_reply": "2023-11-23T05:17:25.267099Z",
     "shell.execute_reply.started": "2023-11-23T05:17:25.252126Z"
    }
   },
   "outputs": [],
   "source": [
    "df.isna().sum()"
   ]
  },
  {
   "cell_type": "code",
   "execution_count": null,
   "metadata": {},
   "outputs": [],
   "source": [
    "github_token = <>"
   ]
  },
  {
   "cell_type": "code",
   "execution_count": null,
   "metadata": {
    "execution": {
     "iopub.execute_input": "2023-11-23T05:17:27.534461Z",
     "iopub.status.busy": "2023-11-23T05:17:27.533954Z",
     "iopub.status.idle": "2023-11-23T05:17:27.643766Z",
     "shell.execute_reply": "2023-11-23T05:17:27.642219Z",
     "shell.execute_reply.started": "2023-11-23T05:17:27.534424Z"
    }
   },
   "outputs": [],
   "source": [
    "#fetch readme files for the repo in dataset\n",
    "\n",
    "import base64\n",
    "import json\n",
    "import requests\n",
    "import os\n",
    "\n",
    "def github_read_file(username, repository_name, file_path):\n",
    "    data = None\n",
    "    j=0\n",
    "    headers = {}\n",
    "    if github_token:\n",
    "        headers['Authorization'] = f\"token {github_token}\"\n",
    "    url = f'https://api.github.com/repos/{username}/{repository_name}/contents/{file_path}'\n",
    "    r = requests.get(url, headers=headers)\n",
    "    r.raise_for_status()\n",
    "    data = r.json()\n",
    "        \n",
    "    file_content = data['content']\n",
    "    file_content_encoding = data.get('encoding')\n",
    "    if file_content_encoding == 'base64':\n",
    "        file_content = base64.b64decode(file_content).decode()\n",
    "    \n",
    "    return file_content\n",
    "\n",
    "\n",
    "def get_readme(name,repo_name):\n",
    "    username = name\n",
    "    repository_name = repo_name\n",
    "    file_r = None\n",
    "    \n",
    "    try:\n",
    "        file_path = 'README.md'\n",
    "        file_content = github_read_file(username, repository_name, file_path)\n",
    "        file_r = file_content\n",
    "    except:\n",
    "        pass\n",
    "    \n",
    "    try:\n",
    "        file_path = 'readme.md'\n",
    "        file_content = github_read_file(username, repository_name, file_path)\n",
    "        file_r = file_content\n",
    "    except:\n",
    "        pass\n",
    "    return file_r\n",
    "    \n",
    "\n",
    "\n",
    "def get_readme_content(user_name,repo_name):\n",
    "    each = get_readme(user_name,repo_name)\n",
    "    each=str(each)\n",
    "    return each\n"
   ]
  },
  {
   "cell_type": "code",
   "execution_count": null,
   "metadata": {
    "execution": {
     "iopub.execute_input": "2023-11-23T05:16:06.039909Z",
     "iopub.status.busy": "2023-11-23T05:16:06.039496Z"
    }
   },
   "outputs": [],
   "source": [
    "readme_data = []\n",
    "i=0\n",
    "    \n",
    "for idx,item in df[\"reponame\"].items():\n",
    "    name = item\n",
    "    username = df[\"login\"][idx]\n",
    "    readme_content = get_readme_content(username,name)\n",
    "    if readme_content == \"None\":\n",
    "        i+=1\n",
    "    readme_data.append(readme_content)\n",
    "    \n",
    "readme_pd = pd.DataFrame(data = readme_data,columns = [\"readme\"])"
   ]
  },
  {
   "cell_type": "code",
   "execution_count": null,
   "metadata": {},
   "outputs": [],
   "source": [
    "readme_pd.to_csv(\"df_github.csv\")"
   ]
  },
  {
   "cell_type": "code",
   "execution_count": null,
   "metadata": {},
   "outputs": [],
   "source": []
  }
 ],
 "metadata": {
  "kaggle": {
   "accelerator": "none",
   "dataSources": [
    {
     "datasetId": 3985624,
     "sourceId": 6940128,
     "sourceType": "datasetVersion"
    }
   ],
   "dockerImageVersionId": 30558,
   "isGpuEnabled": false,
   "isInternetEnabled": true,
   "language": "python",
   "sourceType": "notebook"
  },
  "kernelspec": {
   "display_name": "Python 3",
   "language": "python",
   "name": "python3"
  },
  "language_info": {
   "codemirror_mode": {
    "name": "ipython",
    "version": 3
   },
   "file_extension": ".py",
   "mimetype": "text/x-python",
   "name": "python",
   "nbconvert_exporter": "python",
   "pygments_lexer": "ipython3",
   "version": "3.8.5"
  }
 },
 "nbformat": 4,
 "nbformat_minor": 4
}
